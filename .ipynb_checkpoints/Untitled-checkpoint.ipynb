{
 "cells": [
  {
   "cell_type": "code",
   "execution_count": 29,
   "id": "6d610b36-7948-4910-9654-dc0289869371",
   "metadata": {},
   "outputs": [],
   "source": [
    "import hashlib"
   ]
  },
  {
   "cell_type": "code",
   "execution_count": 47,
   "id": "e753469d-6f6f-4e86-ab9d-836bf2b95218",
   "metadata": {},
   "outputs": [],
   "source": [
    "class CatCoinBlock:\n",
    "    \n",
    "    def __init__(self, previous_block_hash, transaction_list):\n",
    "        self.previous_block_hash = previous_block_hash\n",
    "        self.transaction_list = transaction_list\n",
    "        \n",
    "        self.block_data = \" - \".join(transaction_list) + \" - \" + previous_block_hash\n",
    "        self.block_hash = hashlib.sha256(self.block_data.encode()).hexdigest()\n",
    "        \n",
    "t1 = \"Milano sends 20 CC to Hwieun\" \n",
    "t2 = \"Milan sends 2.1 CC to Yuta\" \n",
    "t3 = \"Yuta sends 13 CC to Hwieun\"\n",
    "t4 = \"Yuta sends 8 CC to Milan\"\n",
    "t5 = \"Hwieun sends 9 CC to Milan\"\n",
    "t6 = \"Hwieun sends 22 CC to Yuta\" \n",
    "\n",
    "t_list = [[t1, t2], [t3, t4], [t5, t6]]\n",
    "\n",
    "#contains a list of instances\n",
    "blocks = [] \n",
    "\n",
    "#creating genesis block\n",
    "blocks.append(CatCoinBlock(\"Initial String\", t_list[0]))\n",
    "\n",
    "\n",
    "#creating rest of the block\n",
    "for i in range(1, 3):\n",
    "    blocks.append(CatCoinBlock(blocks[i-1].block_hash, t_list[i]))\n"
   ]
  },
  {
   "cell_type": "code",
   "execution_count": 48,
   "id": "bcc3f73a-6818-42e7-a839-23df9064689f",
   "metadata": {},
   "outputs": [
    {
     "name": "stdout",
     "output_type": "stream",
     "text": [
      "Milano sends 20 CC to Hwieun - Milan sends 2.1 CC to Yuta - Initial String\n",
      "f19de2d68a26c0b763457867891dc383104585ec565d2c74f16a5535fd19548f\n",
      "\n",
      "\n",
      "Yuta sends 13 CC to Hwieun - Yuta sends 8 CC to Milan - f19de2d68a26c0b763457867891dc383104585ec565d2c74f16a5535fd19548f\n",
      "8dc595f96d5ad2c0fe4260d4293920fd38725b73d35a38b939b5fefa75e37b94\n",
      "\n",
      "\n",
      "Hwieun sends 9 CC to Milan - Hwieun sends 22 CC to Yuta - 8dc595f96d5ad2c0fe4260d4293920fd38725b73d35a38b939b5fefa75e37b94\n",
      "6f2fa990fbed18db19e0aa383fddd3222dfc9e62e61e39a7ebf770651155f13d\n",
      "\n",
      "\n"
     ]
    }
   ],
   "source": [
    "for i in range(0, 3):\n",
    "    print(blocks[i].block_data)\n",
    "    print(blocks[i].block_hash)    \n",
    "    print(\"\\n\")"
   ]
  },
  {
   "cell_type": "code",
   "execution_count": null,
   "id": "8bdd331d-9e0c-46ed-9446-5f9e35d67c82",
   "metadata": {},
   "outputs": [],
   "source": [
    "Milan sends 20 CC to Hwieun-Milan sends 2.1 CC to Yuta-Initial String\n",
    "d73f020449d232bfa23be60ae616e82ce3e8390a00b42e1d45d4c2f76fea3d90\n",
    "\n",
    "\n",
    "Yuta sends 13 CC to Hwieun-Yuta sends 8 CC to Milan-d73f020449d232bfa23be60ae616e82ce3e8390a00b42e1d45d4c2f76fea3d90\n",
    "2c3d4520c272084283f469866c212037a49824419ca47128ef1fec222f7a1c35\n",
    "\n",
    "\n",
    "Hwieun sends 9 CC to Milan-Hwieun sends 22 CC to Yuta-2c3d4520c272084283f469866c212037a49824419ca47128ef1fec222f7a1c35\n",
    "03de4fba3638e46a3f556d898081fbc5e360c8182988c9d0a8b22f182740ebb7"
   ]
  }
 ],
 "metadata": {
  "kernelspec": {
   "display_name": "blockchain",
   "language": "python",
   "name": "blockchain"
  },
  "language_info": {
   "codemirror_mode": {
    "name": "ipython",
    "version": 3
   },
   "file_extension": ".py",
   "mimetype": "text/x-python",
   "name": "python",
   "nbconvert_exporter": "python",
   "pygments_lexer": "ipython3",
   "version": "3.9.7"
  }
 },
 "nbformat": 4,
 "nbformat_minor": 5
}
