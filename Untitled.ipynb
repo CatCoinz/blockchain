{
 "cells": [
  {
   "cell_type": "code",
   "execution_count": 1,
   "id": "6d610b36-7948-4910-9654-dc0289869371",
   "metadata": {},
   "outputs": [],
   "source": [
    "import hashlib"
   ]
  },
  {
   "cell_type": "code",
   "execution_count": 2,
   "id": "e753469d-6f6f-4e86-ab9d-836bf2b95218",
   "metadata": {},
   "outputs": [],
   "source": [
    "class CatCoinBlock:\n",
    "    \n",
    "    def __init__(self, previous_block_hash, transaction_list):\n",
    "        self.previous_block_hash = previous_block_hash\n",
    "        self.transaction_list = transaction_list\n",
    "        \n",
    "        self.block_data = \" - \".join(transaction_list) + \" - \" + previous_block_hash\n",
    "        self.block_hash = hashlib.sha256(self.block_data.encode()).hexdigest()\n",
    "        \n",
    "t1 = \"Milan sends 20 CC to Hwieun\" \n",
    "t2 = \"Milan sends 2.1 CC to Yuta\" \n",
    "t3 = \"Yuta sends 13 CC to Hwieun\"\n",
    "t4 = \"Yuta sends 8 CC to Milan\"\n",
    "t5 = \"Hwieun sends 9 CC to Milan\"\n",
    "t6 = \"Hwieun sends 22 CC to Yuta\" \n",
    "\n",
    "t_list = [[t1, t2], [t3, t4], [t5, t6]]\n",
    "\n",
    "#contains a list of instances\n",
    "blocks = [] \n",
    "\n",
    "#creating genesis block\n",
    "blocks.append(CatCoinBlock(\"Initial String\", t_list[0]))\n",
    "\n",
    "\n",
    "#creating rest of the block\n",
    "for i in range(1, 3):\n",
    "    blocks.append(CatCoinBlock(blocks[i-1].block_hash, t_list[i]))"
   ]
  },
  {
   "cell_type": "code",
   "execution_count": 3,
   "id": "bcc3f73a-6818-42e7-a839-23df9064689f",
   "metadata": {},
   "outputs": [
    {
     "name": "stdout",
     "output_type": "stream",
     "text": [
      "Milan sends 20 CC to Hwieun - Milan sends 2.1 CC to Yuta - Initial String\n",
      "856b9e5bd3aa261f39b3d201243135ead837ecfb3acc6596b8dab3e39ecea2ab\n",
      "\n",
      "\n",
      "Yuta sends 13 CC to Hwieun - Yuta sends 8 CC to Milan - 856b9e5bd3aa261f39b3d201243135ead837ecfb3acc6596b8dab3e39ecea2ab\n",
      "81af52122f72dfeb7c1be5a28c375a9ebaf4a7a12939cb8c9008021dd3189dcb\n",
      "\n",
      "\n",
      "Hwieun sends 9 CC to Milan - Hwieun sends 22 CC to Yuta - 81af52122f72dfeb7c1be5a28c375a9ebaf4a7a12939cb8c9008021dd3189dcb\n",
      "5735830d535ef6c4d2a8bf4120e071720f78c5dfa98755aff0c0c5c5b15101bf\n",
      "\n",
      "\n"
     ]
    }
   ],
   "source": [
    "for i in range(0, 3):\n",
    "    print(blocks[i].block_data)\n",
    "    print(blocks[i].block_hash)    \n",
    "    print(\"\\n\")"
   ]
  },
  {
   "cell_type": "code",
   "execution_count": 4,
   "id": "f551f0c3-a7ea-4939-92a9-382f432fd6d6",
   "metadata": {},
   "outputs": [
    {
     "ename": "SyntaxError",
     "evalue": "invalid syntax (Temp/ipykernel_14428/1438496744.py, line 1)",
     "output_type": "error",
     "traceback": [
      "\u001b[1;36m  File \u001b[1;32m\"C:\\Users\\yuuta\\AppData\\Local\\Temp/ipykernel_14428/1438496744.py\"\u001b[1;36m, line \u001b[1;32m1\u001b[0m\n\u001b[1;33m    Milano sends 20 CC to Hwieun - Milan sends 2.1 CC to Yuta - Initial String\u001b[0m\n\u001b[1;37m           ^\u001b[0m\n\u001b[1;31mSyntaxError\u001b[0m\u001b[1;31m:\u001b[0m invalid syntax\n"
     ]
    }
   ],
   "source": []
  }
 ],
 "metadata": {
  "kernelspec": {
   "display_name": "blockchain",
   "language": "python",
   "name": "blockchain"
  },
  "language_info": {
   "codemirror_mode": {
    "name": "ipython",
    "version": 3
   },
   "file_extension": ".py",
   "mimetype": "text/x-python",
   "name": "python",
   "nbconvert_exporter": "python",
   "pygments_lexer": "ipython3",
   "version": "3.9.7"
  }
 },
 "nbformat": 4,
 "nbformat_minor": 5
}
